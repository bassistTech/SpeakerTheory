{
 "cells": [
  {
   "cell_type": "markdown",
   "metadata": {
    "vscode": {
     "languageId": "plaintext"
    }
   },
   "source": [
    "I've made a careful study of the physics and have checked my equations by producing graphs that match those of mainstream free design software. My results are not radical, and do not call into question mainstream theory. In fact I think I'm solving the same problem as presented in early papers by Thiele and others. The only difference is that they used lumped element models to diagram those equations, and I'm representing the same equations algebraically.\n",
    "\n",
    "In short, I've done my homework, and I'm not challenging accepted knowledge. In this blog, I'm going to pull out a few selected equations."
   ]
  },
  {
   "cell_type": "markdown",
   "metadata": {},
   "source": [
    "This is what I call the \"master equation of cone motion.\"\n",
    "\n",
    "$x(\\omega) =  \\dfrac {\\left (\\dfrac {BLV} {mR} \\right )} {\\left (\\dfrac {K_{total}} m + j \\omega \\left (\\dfrac {BL^2} {mR} + \\dfrac C m \\right) - \\omega^2 \\right )}$"
   ]
  },
  {
   "cell_type": "markdown",
   "metadata": {},
   "source": [
    "Remember how we get the electromechanical parameters from the Thiele-Small parameters:\n",
    "\n",
    "$\\omega_0 = 2 \\pi F_s$, the resonant frequency in angular units\n",
    "\n",
    "$m = \\gamma P_{atm} \\dfrac {S_d^2} {w_0^2 Vas}$, the mass of the cone\n",
    "\n",
    "$BL = \\sqrt{\\omega_0 m R_e/Q_{es}}$, the motor strength\n",
    "\n",
    "$C = \\omega_0*m/Q_{ms}$, the mechanical damping coefficient\n",
    "\n",
    "$K_{driver} = \\omega_0^2 m$, the spring constant of the suspension\n",
    "\n",
    "$K_{total} = K_{driver} + K_{box}$, the total spring constant including that of the box"
   ]
  },
  {
   "cell_type": "markdown",
   "metadata": {},
   "source": [
    "You can see that the motion of the cone depends on the input signal V, but also explicitly on all of the Thiele-Small parameters plus the box. This equation gives the same results as basic design software."
   ]
  },
  {
   "cell_type": "markdown",
   "metadata": {},
   "source": [
    "For a sealed box, the mechanical resistance of the box is constant:\n",
    "\n",
    "$K_{box} = \\dfrac {\\gamma P_{atm} S_d ^2} {V_{box}}$\n",
    "\n",
    "For a ported box, the \"effective\" resistance of the box is frequency dependent:\n",
    "\n",
    "$K_{box} = \\dfrac {\\gamma P_{atm} S_d ^2} {V_{box}} \\dfrac {\\omega^2} {\\omega^2 - \\omega_{port}^2}$"
   ]
  },
  {
   "cell_type": "markdown",
   "metadata": {},
   "source": [
    "Does this make sense? At high frequencies, $\\omega^2 \\gg \\omega_{port}^2$ and the port has no effect. Where $\\omega \\approx \\omega_{port}$, the denominator gets small and the effective mechanical resistance of the box goes to infinity. In reality, there's no infinity, because the port has a small but finite Q factor of its own. I've just left out that Q factor in my equations. But it's why the \"grain of rice\" test works. The high mechanical resistance of the box stops cone motion at the port resonance.\n",
    "\n",
    "What this means is that in a ported system, the motion of the cone is an explicit function of the Thiele-Small parameters, the volume of the box, and the port tuning frequency.\n",
    "\n",
    "Now let's look at what produces sound, which is the volume displacement of the driver plus the port, or the product of area and displacement. The result is a \"master equation of the ported speaker.\""
   ]
  },
  {
   "cell_type": "markdown",
   "metadata": {},
   "source": [
    "$S_{port} x_{port} + S_{cone} x_{cone} = S_{cone} x_{cone} \\dfrac {\\omega^2} {(\\omega^2 - \\omega_{port}^2)}$"
   ]
  },
  {
   "cell_type": "markdown",
   "metadata": {},
   "source": [
    "Moreover, on-axis sound pressure at a given distance is proportional to $\\omega^2$ times the displacement."
   ]
  },
  {
   "cell_type": "markdown",
   "metadata": {},
   "source": [
    "Now I'm going to work backwards from the end. The \"master equation\" contains everything that's included in the basic electromechanical model. It explicitly includes all of the original Thiele-Small parameters. They're hidden in $x_{cone}$, but they're all there.\n",
    "\n",
    "To *model* the response of the system, you need to know all of the parameters. But to *measure* the response, all you need is a microphone.\n",
    "\n",
    "My claim is this: You can measure a response curve proportional to $S_{cone} x_{cone}$ by placing a microphone close to the cone, and perhaps isolating the port from the cone if possible. Once you perform this measurement, then you can compute the total response by applying the factor:\n",
    "\n",
    "$\\dfrac {\\omega^2} {(\\omega^2 - \\omega_{port}^2)}$\n",
    "\n",
    "What I'm saying here is that the response of both the cone and the port depend on all of the Thiele-Small parameters, but the *relationship* between the two cone response curves is a simple function of just the port tuning frequency."
   ]
  },
  {
   "cell_type": "markdown",
   "metadata": {},
   "source": []
  }
 ],
 "metadata": {
  "kernelspec": {
   "display_name": "Python 3 (ipykernel)",
   "language": "python",
   "name": "python3"
  },
  "language_info": {
   "codemirror_mode": {
    "name": "ipython",
    "version": 3
   },
   "file_extension": ".py",
   "mimetype": "text/x-python",
   "name": "python",
   "nbconvert_exporter": "python",
   "pygments_lexer": "ipython3",
   "version": "3.13.1"
  }
 },
 "nbformat": 4,
 "nbformat_minor": 4
}
